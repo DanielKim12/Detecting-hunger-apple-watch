{
 "cells": [
  {
   "cell_type": "markdown",
   "id": "2cb6f4a3",
   "metadata": {},
   "source": [
    "# trying out more features "
   ]
  },
  {
   "cell_type": "code",
   "execution_count": 5,
   "id": "788e353a",
   "metadata": {},
   "outputs": [],
   "source": [
    "import pandas as pd\n",
    "import numpy as np\n",
    "import scipy.stats\n",
    "from sklearn.ensemble import RandomForestClassifier\n",
    "from sklearn.linear_model import LogisticRegression\n",
    "from xgboost import XGBClassifier\n",
    "from sklearn.model_selection import cross_val_score\n",
    "from sklearn.preprocessing import StandardScaler\n",
    "import warnings\n",
    "warnings.filterwarnings(\"ignore\")"
   ]
  },
  {
   "cell_type": "code",
   "execution_count": 10,
   "id": "e2129586",
   "metadata": {},
   "outputs": [],
   "source": [
    "# File paths (to be restored if files are re-uploaded)\n",
    "file_paths = [\n",
    "    \"../data/gukil/data1.csv\",\n",
    "    \"../data/gukil/data3.csv\",\n",
    "    \"../data/gukil/data2.csv\",\n",
    "    \"../data/gukil/data4.csv\",\n",
    "    \"../data/gukil/data5.csv\",\n",
    "    \"../data/gukil/data6.csv\",\n",
    "]"
   ]
  },
  {
   "cell_type": "code",
   "execution_count": 11,
   "id": "8739e25f",
   "metadata": {},
   "outputs": [],
   "source": [
    "# Advanced feature extractor for a heart rate segment\n",
    "def extract_features(hr_series):\n",
    "    hr_series = hr_series.dropna().values\n",
    "    if len(hr_series) < 2:\n",
    "        return {}\n",
    "\n",
    "    hr_diff = np.diff(hr_series)\n",
    "    return {\n",
    "        'mean': np.mean(hr_series),\n",
    "        'std': np.std(hr_series),\n",
    "        'min': np.min(hr_series),\n",
    "        'max': np.max(hr_series),\n",
    "        'range': np.ptp(hr_series),\n",
    "        'slope': np.polyfit(np.arange(len(hr_series)), hr_series, 1)[0],\n",
    "        'skew': scipy.stats.skew(hr_series),\n",
    "        'kurtosis': scipy.stats.kurtosis(hr_series),\n",
    "        'median': np.median(hr_series),\n",
    "        'rmssd': np.sqrt(np.mean(np.square(hr_diff))),\n",
    "        'mean_abs_change': np.mean(np.abs(hr_diff)),\n",
    "        'max_diff': np.max(np.abs(hr_diff)),\n",
    "        'iqr': np.percentile(hr_series, 75) - np.percentile(hr_series, 25)\n",
    "    }\n",
    "\n",
    "# Process labeled segments (label 0 or 1) from each CSV\n",
    "def extract_labeled_segments(file_path):\n",
    "    df = pd.read_csv(file_path)\n",
    "    df['timestamp'] = pd.to_datetime(df['timestamp'])\n",
    "    df = df.sort_values('timestamp').reset_index(drop=True)\n",
    "\n",
    "    segments = []\n",
    "    for label in [0, 1]:\n",
    "        hr_segment = df[df['label'] == label]['heart_rate']\n",
    "        if not hr_segment.empty:\n",
    "            features = extract_features(hr_segment)\n",
    "            features['label'] = label\n",
    "            segments.append(features)\n",
    "    return segments"
   ]
  },
  {
   "cell_type": "code",
   "execution_count": 12,
   "id": "41103390",
   "metadata": {},
   "outputs": [
    {
     "data": {
      "text/plain": [
       "'/Users/kshitijpawar/Desktop/Kshitij/spring_2025/csci534/project/Detecting-hunger-apple-watch/model'"
      ]
     },
     "execution_count": 12,
     "metadata": {},
     "output_type": "execute_result"
    }
   ],
   "source": [
    "pwd"
   ]
  },
  {
   "cell_type": "code",
   "execution_count": 13,
   "id": "c3d14665",
   "metadata": {},
   "outputs": [],
   "source": [
    "# Process all uploaded files\n",
    "all_segments = []\n",
    "for path in file_paths:\n",
    "    all_segments.extend(extract_labeled_segments(path))\n",
    "\n",
    "# Prepare dataset\n",
    "segment_df = pd.DataFrame(all_segments)\n",
    "X = segment_df.drop(columns=['label'])\n",
    "y = segment_df['label'].values\n",
    "\n",
    "# Normalize features\n",
    "scaler = StandardScaler()\n",
    "X_scaled = scaler.fit_transform(X)"
   ]
  },
  {
   "cell_type": "code",
   "execution_count": 14,
   "id": "d3538cbd",
   "metadata": {},
   "outputs": [],
   "source": [
    "# Train and evaluate models\n",
    "models = {\n",
    "    \"Random Forest\": RandomForestClassifier(),\n",
    "    \"Logistic Regression\": LogisticRegression(),\n",
    "    \"XGBoost\": XGBClassifier(use_label_encoder=False, eval_metric='logloss')\n",
    "}"
   ]
  },
  {
   "cell_type": "code",
   "execution_count": 15,
   "id": "0a6697f3",
   "metadata": {},
   "outputs": [],
   "source": [
    "results = {}\n",
    "for name, model in models.items():\n",
    "    if len(np.unique(y)) > 1:\n",
    "        scores = cross_val_score(model, X_scaled, y, cv=min(3, len(y)))\n",
    "        results[name] = {\n",
    "            \"accuracy_mean\": scores.mean(),\n",
    "            \"accuracy_std\": scores.std()\n",
    "        }\n",
    "    else:\n",
    "        results[name] = {\n",
    "            \"accuracy_mean\": None,\n",
    "            \"accuracy_std\": None,\n",
    "            \"error\": \"Only one class present in labels\"\n",
    "        }"
   ]
  },
  {
   "cell_type": "code",
   "execution_count": 16,
   "id": "997bb9ed",
   "metadata": {},
   "outputs": [
    {
     "data": {
      "text/plain": [
       "{'Random Forest': {'accuracy_mean': np.float64(0.5),\n",
       "  'accuracy_std': np.float64(0.0)},\n",
       " 'Logistic Regression': {'accuracy_mean': np.float64(0.5),\n",
       "  'accuracy_std': np.float64(0.2041241452319315)},\n",
       " 'XGBoost': {'accuracy_mean': np.float64(0.5833333333333334),\n",
       "  'accuracy_std': np.float64(0.11785113019775792)}}"
      ]
     },
     "execution_count": 16,
     "metadata": {},
     "output_type": "execute_result"
    }
   ],
   "source": [
    "results"
   ]
  },
  {
   "cell_type": "code",
   "execution_count": null,
   "id": "d0ee4530",
   "metadata": {},
   "outputs": [],
   "source": []
  }
 ],
 "metadata": {
  "kernelspec": {
   "display_name": "csci587env",
   "language": "python",
   "name": "csci587env"
  },
  "language_info": {
   "codemirror_mode": {
    "name": "ipython",
    "version": 3
   },
   "file_extension": ".py",
   "mimetype": "text/x-python",
   "name": "python",
   "nbconvert_exporter": "python",
   "pygments_lexer": "ipython3",
   "version": "3.9.6"
  }
 },
 "nbformat": 4,
 "nbformat_minor": 5
}
